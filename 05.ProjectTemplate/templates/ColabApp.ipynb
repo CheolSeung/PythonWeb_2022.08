{
  "cells": [
    {
      "cell_type": "markdown",
      "metadata": {
        "id": "n5hm6VA2-zej"
      },
      "source": [
        "# Project Template App - Ngrok, Colab and ResNet"
      ]
    },
    {
      "cell_type": "code",
      "execution_count": 1,
      "metadata": {
        "id": "CW49TtYS-xEM"
      },
      "outputs": [],
      "source": [
        "!pip install flask-ngrok > /dev/null 2>&1\n",
        "!pip install pyngrok > /dev/null 2>&1"
      ]
    },
    {
      "cell_type": "code",
      "execution_count": 2,
      "metadata": {
        "colab": {
          "base_uri": "https://localhost:8080/",
          "height": 0
        },
        "id": "bhpK5XzT_A_3",
        "outputId": "168900c8-d891-4d6e-fb1b-eacbd8af912b"
      },
      "outputs": [
        {
          "output_type": "stream",
          "name": "stdout",
          "text": [
            "Mounted at /content/drive\n"
          ]
        }
      ],
      "source": [
        "from google.colab import drive\n",
        "drive.mount('/content/drive')"
      ]
    },
    {
      "cell_type": "code",
      "execution_count": 3,
      "metadata": {
        "id": "9rTBpPIJ_grz"
      },
      "outputs": [],
      "source": [
        "with open('drive/MyDrive/project_ex/static/ngrok_auth.txt') as nf:\n",
        "  ngrok_auth = nf.read()"
      ]
    },
    {
      "cell_type": "code",
      "execution_count": 4,
      "metadata": {
        "colab": {
          "base_uri": "https://localhost:8080/",
          "height": 0
        },
        "id": "iBKfVJ1PAN0k",
        "outputId": "87ade10b-ace4-4cb8-bb47-5d0274b007bb"
      },
      "outputs": [
        {
          "output_type": "stream",
          "name": "stdout",
          "text": [
            "Authtoken saved to configuration file: /root/.ngrok2/ngrok.yml\n"
          ]
        }
      ],
      "source": [
        "!ngrok authtoken $ngrok_auth"
      ]
    },
    {
      "cell_type": "markdown",
      "metadata": {
        "id": "_Cbeww5lAaob"
      },
      "source": [
        "### Web Server Code"
      ]
    },
    {
      "cell_type": "code",
      "execution_count": 8,
      "metadata": {
        "colab": {
          "base_uri": "https://localhost:8080/",
          "height": 0
        },
        "id": "xQssr3QGAYX_",
        "outputId": "27f9aad3-4920-409c-a66e-8302e30100be"
      },
      "outputs": [
        {
          "output_type": "stream",
          "name": "stdout",
          "text": [
            " * Serving Flask app \"__main__\" (lazy loading)\n",
            " * Environment: production\n",
            "\u001b[31m   WARNING: This is a development server. Do not use it in a production deployment.\u001b[0m\n",
            "\u001b[2m   Use a production WSGI server instead.\u001b[0m\n",
            " * Debug mode: off\n"
          ]
        },
        {
          "output_type": "stream",
          "name": "stderr",
          "text": [
            "INFO:werkzeug: * Running on http://127.0.0.1:5000/ (Press CTRL+C to quit)\n"
          ]
        },
        {
          "output_type": "stream",
          "name": "stdout",
          "text": [
            " * Running on http://da90-34-73-67-118.ngrok.io\n",
            " * Traffic stats available on http://127.0.0.1:4040\n"
          ]
        },
        {
          "output_type": "stream",
          "name": "stderr",
          "text": [
            "INFO:werkzeug:127.0.0.1 - - [26/Aug/2022 02:16:05] \"\u001b[37mGET / HTTP/1.1\u001b[0m\" 200 -\n",
            "INFO:werkzeug:127.0.0.1 - - [26/Aug/2022 02:16:06] \"\u001b[37mGET /static/img/logo.png HTTP/1.1\u001b[0m\" 200 -\n",
            "INFO:werkzeug:127.0.0.1 - - [26/Aug/2022 02:16:07] \"\u001b[33mGET /favicon.ico HTTP/1.1\u001b[0m\" 404 -\n"
          ]
        }
      ],
      "source": [
        "from flask import Flask, render_template, request\n",
        "from flask_ngrok import run_with_ngrok\n",
        "import os\n",
        "from tensorflow.keras.applications.resnet50 import ResNet50, decode_predictions\n",
        "import numpy as np\n",
        "from PIL import Image\n",
        "import matplotlib.pyplot as plt\n",
        "\n",
        "app = Flask(__name__, static_folder='/content/drive/MyDrive/project_ex/static',\n",
        "            template_folder = '/content/drive/MyDrive/project_ex/templates')\n",
        "run_with_ngrok(app)\n",
        "\n",
        "@app.before_first_request\n",
        "def before_first_request():\n",
        "  global resnet50\n",
        "  resnet50 = ResNet50()\n",
        "\n",
        "@app.route('/')\n",
        "def home():\n",
        "    menu = {'home':1, 'menu':0}\n",
        "    return render_template('index.html', menu=menu)\n",
        "\n",
        "@app.route('/menu', methods=['GET','POST'])\n",
        "def menu():\n",
        "    menu = {'home':0, 'menu':1}\n",
        "    if request.method == 'GET':\n",
        "        languages = [\n",
        "            {'disp':'영어', 'val':'en'},\n",
        "            {'disp':'일어', 'val':'jp'},\n",
        "            {'disp':'중국어', 'val':'cn'},\n",
        "            {'disp':'프랑스어', 'val':'fr'},\n",
        "            {'disp':'스페인어', 'val':'es'}\n",
        "        ]\n",
        "        return render_template('menu.html', menu=menu,\n",
        "                                options=languages)   # 서버에서 클라이언트로 정보 전달\n",
        "    else:\n",
        "        # 사용자가 입력한 정보를 서버가 읽음\n",
        "        #index = request.form['index']\n",
        "        #lang = request.form['lang']\n",
        "        #lyrics = request.form['lyrics']\n",
        "        #print(lang, '\\n', index, '\\n', lyrics, sep='')\n",
        "\n",
        "        # 사용자가 입력한 파일을 읽어서 upload 디렉토리에 저장\n",
        "        f_image = request.files['image']\n",
        "        fname = f_image.filename                # 사용자가 입력한 파일 이름\n",
        "        filename = os.path.join(app.static_folder, 'upload/') + fname\n",
        "        f_image.save(filename)\n",
        "        ext = fname.split('.')[-1]\n",
        "\n",
        "        #모델 실행\n",
        "        img = Image.open(filename)\n",
        "        img = img.resize((224,224))\n",
        "        if ext.lower() == 'png':\n",
        "          img_array = np.array(img)[:,:,:3]\n",
        "        else:\n",
        "          img_array = np.array(img)\n",
        "        yhat = resnet50.predict(img_array.reshape(1,224,224,3))\n",
        "        label = decode_predictions(yhat)\n",
        "        img_class = label[0][0][1]\n",
        "        prob = label[0][0][2]\n",
        "\n",
        "        # 모델 실행후 결과를 돌려줌\n",
        "        result = '독수리 (73.52%)'\n",
        "        result = f'{img_class} ({prob*100:.2f}%)'\n",
        "        mtime = int(os.stat(filename).st_mtime)\n",
        "        return render_template('menu_res.html', result=result, menu=menu,\n",
        "                                fname=fname, mtime=mtime)\n",
        "\n",
        "if __name__ == '__main__':\n",
        "    app.run()"
      ]
    }
  ],
  "metadata": {
    "colab": {
      "name": "ColabApp.ipynb",
      "provenance": [],
      "collapsed_sections": []
    },
    "kernelspec": {
      "display_name": "Python 3",
      "name": "python3"
    },
    "language_info": {
      "name": "python"
    }
  },
  "nbformat": 4,
  "nbformat_minor": 0
}