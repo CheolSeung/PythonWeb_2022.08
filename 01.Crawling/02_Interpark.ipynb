{
  "cells": [
    {
      "cell_type": "markdown",
      "metadata": {
        "id": "NHdFq5FxusZ3"
      },
      "source": [
        "# 인터파크 베스트 셀러 도서 정보"
      ]
    },
    {
      "cell_type": "code",
      "execution_count": null,
      "metadata": {
        "colab": {
          "base_uri": "https://localhost:8080/",
          "height": 144
        },
        "id": "Cvze-M0DuoLk",
        "outputId": "401feebd-b389-4452-c94f-0024bd8b4926"
      },
      "outputs": [],
      "source": [
        "import requests\n",
        "url = 'http://book.interpark.com/display/collectlist.do?_method=BestsellerHourNew201605&bestTp=1&dispNo=028&smid1=s_menu&smid2=bestseller'\n",
        "req = requests.get(url)\n",
        "req.text"
      ]
    },
    {
      "cell_type": "code",
      "execution_count": 2,
      "metadata": {
        "id": "OCqkj5prvUTP"
      },
      "outputs": [],
      "source": [
        "from bs4 import BeautifulSoup\n",
        "soup = BeautifulSoup(req.text, 'html.parser')"
      ]
    },
    {
      "cell_type": "markdown",
      "metadata": {
        "id": "bfZww-a42WG2"
      },
      "source": [
        "### Step1. 찾고자 하는 목록들을 가져온다(list 계열의 li, table 계열의 tr)"
      ]
    },
    {
      "cell_type": "code",
      "execution_count": 3,
      "metadata": {
        "colab": {
          "base_uri": "https://localhost:8080/"
        },
        "id": "rUpIjM-qwLSX",
        "outputId": "b6b951dc-fc42-432a-f7b0-16651f222fe8"
      },
      "outputs": [
        {
          "data": {
            "text/plain": [
              "3532"
            ]
          },
          "execution_count": 3,
          "metadata": {},
          "output_type": "execute_result"
        }
      ],
      "source": [
        "# 화면 내의 모든 li 태그를 찾아줘서 이렇게 하면 안됨.\n",
        "lis = soup.find_all('li')\n",
        "len(lis)"
      ]
    },
    {
      "cell_type": "code",
      "execution_count": 4,
      "metadata": {
        "colab": {
          "base_uri": "https://localhost:8080/"
        },
        "id": "ehi1x2BjxfMf",
        "outputId": "703f8055-3e8a-4334-c2ae-a86f24fb8252"
      },
      "outputs": [
        {
          "data": {
            "text/plain": [
              "58"
            ]
          },
          "execution_count": 4,
          "metadata": {},
          "output_type": "execute_result"
        }
      ],
      "source": [
        "# 15개 베스트셀러 목록의 li 태그\n",
        "lis = soup.select_one('.rankBestContentList').find_all('li')\n",
        "len(lis)"
      ]
    },
    {
      "cell_type": "code",
      "execution_count": 5,
      "metadata": {
        "colab": {
          "base_uri": "https://localhost:8080/"
        },
        "id": "ch350P0gyPMd",
        "outputId": "9d191c40-744a-461b-cc0e-004b09552817"
      },
      "outputs": [
        {
          "data": {
            "text/plain": [
              "15"
            ]
          },
          "execution_count": 5,
          "metadata": {},
          "output_type": "execute_result"
        }
      ],
      "source": [
        "# ol 태그의 자식 태그 li만 찾아주는 방법\n",
        "lis = soup.select_one('.rankBestContentList').select('ol > li')\n",
        "len(lis)"
      ]
    },
    {
      "cell_type": "code",
      "execution_count": 6,
      "metadata": {
        "colab": {
          "base_uri": "https://localhost:8080/"
        },
        "id": "lRUc9DFAykBt",
        "outputId": "4a5beaeb-61d9-4423-f44a-cafbb2ef7606"
      },
      "outputs": [
        {
          "data": {
            "text/plain": [
              "15"
            ]
          },
          "execution_count": 6,
          "metadata": {},
          "output_type": "execute_result"
        }
      ],
      "source": [
        "lis = soup.select('.rankBestContentList > ol > li')\n",
        "len(lis)"
      ]
    },
    {
      "cell_type": "markdown",
      "metadata": {
        "id": "R612PJ-F27cV"
      },
      "source": [
        "### Step 2. 목록들 중에 하나를 선택해 세부 내용을 가져온다."
      ]
    },
    {
      "cell_type": "code",
      "execution_count": 7,
      "metadata": {
        "id": "JtSdCOsk26Xz"
      },
      "outputs": [],
      "source": [
        "li = lis[0]"
      ]
    },
    {
      "cell_type": "code",
      "execution_count": 8,
      "metadata": {
        "colab": {
          "base_uri": "https://localhost:8080/",
          "height": 35
        },
        "id": "omtkkvor3pnd",
        "outputId": "dfd6ba80-f813-435b-cfe7-e78f7059c2c5"
      },
      "outputs": [
        {
          "data": {
            "application/vnd.google.colaboratory.intrinsic+json": {
              "type": "string"
            },
            "text/plain": [
              "'하얼빈'"
            ]
          },
          "execution_count": 8,
          "metadata": {},
          "output_type": "execute_result"
        }
      ],
      "source": [
        "# 책 제목\n",
        "title = li.select_one('.itemName').get_text().strip()\n",
        "title"
      ]
    },
    {
      "cell_type": "code",
      "execution_count": 9,
      "metadata": {
        "colab": {
          "base_uri": "https://localhost:8080/",
          "height": 35
        },
        "id": "Apllqp1s3y_N",
        "outputId": "6ea929e1-4bff-4508-bf16-f0772496b6c2"
      },
      "outputs": [
        {
          "data": {
            "application/vnd.google.colaboratory.intrinsic+json": {
              "type": "string"
            },
            "text/plain": [
              "'김훈(金薰)'"
            ]
          },
          "execution_count": 9,
          "metadata": {},
          "output_type": "execute_result"
        }
      ],
      "source": [
        "# 저자\n",
        "author = li.select_one('.author').get_text().strip()\n",
        "author"
      ]
    },
    {
      "cell_type": "code",
      "execution_count": 10,
      "metadata": {
        "colab": {
          "base_uri": "https://localhost:8080/",
          "height": 35
        },
        "id": "V89bC7VA4Fa1",
        "outputId": "522d4f26-7d2f-4957-8350-84519efd8f84"
      },
      "outputs": [
        {
          "data": {
            "application/vnd.google.colaboratory.intrinsic+json": {
              "type": "string"
            },
            "text/plain": [
              "'문학동네'"
            ]
          },
          "execution_count": 10,
          "metadata": {},
          "output_type": "execute_result"
        }
      ],
      "source": [
        "# 출판사\n",
        "company = li.select_one('.company').get_text().strip()\n",
        "company"
      ]
    },
    {
      "cell_type": "code",
      "execution_count": 11,
      "metadata": {
        "colab": {
          "base_uri": "https://localhost:8080/"
        },
        "id": "U7gFN5tY4Mty",
        "outputId": "e3c2bb44-3c64-427c-d6b3-c6f399be11a4"
      },
      "outputs": [
        {
          "data": {
            "text/plain": [
              "14400"
            ]
          },
          "execution_count": 11,
          "metadata": {},
          "output_type": "execute_result"
        }
      ],
      "source": [
        "# 가격\n",
        "price = li.select_one('.price > em').get_text().strip()\n",
        "price = int(price.replace(',',''))\n",
        "price"
      ]
    },
    {
      "cell_type": "code",
      "execution_count": 12,
      "metadata": {
        "colab": {
          "base_uri": "https://localhost:8080/"
        },
        "id": "c67gtLd84zdx",
        "outputId": "47bc88ea-733a-40df-acf8-f3263c0186df"
      },
      "outputs": [
        {
          "data": {
            "text/plain": [
              "[<span class=\"rankBtn_ctrl rkNum_M01 \"></span>,\n",
              " <span class=\"rankBtn_ctrl rkNum_M02 \"></span>]"
            ]
          },
          "execution_count": 12,
          "metadata": {},
          "output_type": "execute_result"
        }
      ],
      "source": [
        "# 순위\n",
        "li = lis[13]\n",
        "rank_spans = li.select('.rankBtn_ctrl')\n",
        "rank_spans"
      ]
    },
    {
      "cell_type": "code",
      "execution_count": 13,
      "metadata": {
        "colab": {
          "base_uri": "https://localhost:8080/"
        },
        "id": "2ehYuRnx6YdE",
        "outputId": "bbbd7163-8f14-4e0f-fbad-35fbd88cc682"
      },
      "outputs": [
        {
          "name": "stdout",
          "output_type": "stream",
          "text": [
            "['rankBtn_ctrl', 'rkNum_M01', '']\n",
            "['rankBtn_ctrl', 'rkNum_M02', '']\n"
          ]
        }
      ],
      "source": [
        "for span in rank_spans:\n",
        "  print(span['class'])"
      ]
    },
    {
      "cell_type": "code",
      "execution_count": 14,
      "metadata": {
        "colab": {
          "base_uri": "https://localhost:8080/"
        },
        "id": "j2qRRyiN6j3J",
        "outputId": "dfa8f12a-af59-4768-9d10-a4305349412f"
      },
      "outputs": [
        {
          "name": "stdout",
          "output_type": "stream",
          "text": [
            "1\n",
            "2\n"
          ]
        }
      ],
      "source": [
        "for span in rank_spans:\n",
        "  print(span['class'][1][-1])"
      ]
    },
    {
      "cell_type": "code",
      "execution_count": 15,
      "metadata": {
        "colab": {
          "base_uri": "https://localhost:8080/"
        },
        "id": "yDIeTNfM6xcM",
        "outputId": "39050ba0-736f-43f4-d1d0-0e976f2e3635"
      },
      "outputs": [
        {
          "data": {
            "text/plain": [
              "12"
            ]
          },
          "execution_count": 15,
          "metadata": {},
          "output_type": "execute_result"
        }
      ],
      "source": [
        "rank = ''\n",
        "for span in rank_spans:\n",
        "  rank += span['class'][1][-1]\n",
        "rank = int(rank)\n",
        "rank"
      ]
    },
    {
      "cell_type": "markdown",
      "metadata": {
        "id": "0URyJTt176E0"
      },
      "source": [
        "### Step 3. 모든 목록에 대해서 세부 정보를 가져와서 데이터프레임으로 만든다"
      ]
    },
    {
      "cell_type": "code",
      "execution_count": 16,
      "metadata": {
        "id": "_Z51cXkE7-jd"
      },
      "outputs": [],
      "source": [
        "import pandas as pd"
      ]
    },
    {
      "cell_type": "code",
      "execution_count": 17,
      "metadata": {
        "id": "KcukqPem8Kvt"
      },
      "outputs": [],
      "source": [
        "lines = []\n",
        "for li in lis:\n",
        "  title = li.select_one('.itemName').get_text().strip()\n",
        "  author = li.select_one('.author').get_text().strip()\n",
        "  company = li.select_one('.company').get_text().strip()\n",
        "  price = li.select_one('.price > em').get_text().strip()\n",
        "  price = int(price.replace(',',''))\n",
        "  rank = ''\n",
        "  rank_spans = li.select('.rankBtn_ctrl')\n",
        "  for span in rank_spans:\n",
        "    rank += span['class'][1][-1]\n",
        "  rank = int(rank)\n",
        "  lines.append([rank, title, author, company, price])"
      ]
    },
    {
      "cell_type": "code",
      "execution_count": 18,
      "metadata": {
        "id": "XUjwCpuw9C3s"
      },
      "outputs": [],
      "source": [
        "# 어디서 에러가 발생했는지 알고싶은 경우\n",
        "lines = []\n",
        "for i, li in enumerate(lis):\n",
        "    try:\n",
        "      title = li.select_one('.itemName').get_text().strip()\n",
        "      author = li.select_one('.author').get_text().strip()\n",
        "      company = li.select_one('.company').get_text().strip()\n",
        "      price = li.select_one('.price > em').get_text().strip()\n",
        "      price = int(price.replace(',',''))\n",
        "      rank = ''\n",
        "      rank_spans = li.select('.rankBtn_ctrl')\n",
        "      for span in rank_spans:\n",
        "        rank += span['class'][1][-1]\n",
        "      rank = int(rank)\n",
        "      lines.append([rank, title, author, company, price])\n",
        "    except:\n",
        "      print(i)"
      ]
    },
    {
      "cell_type": "code",
      "execution_count": 19,
      "metadata": {
        "colab": {
          "base_uri": "https://localhost:8080/",
          "height": 520
        },
        "id": "MQvAEMgZ9bc8",
        "outputId": "a1acc400-77b5-442e-e507-96673c261d6e"
      },
      "outputs": [
        {
          "data": {
            "text/html": [
              "\n",
              "  <div id=\"df-69b95481-765b-47ea-a3e0-cae93cdaa9c9\">\n",
              "    <div class=\"colab-df-container\">\n",
              "      <div>\n",
              "<style scoped>\n",
              "    .dataframe tbody tr th:only-of-type {\n",
              "        vertical-align: middle;\n",
              "    }\n",
              "\n",
              "    .dataframe tbody tr th {\n",
              "        vertical-align: top;\n",
              "    }\n",
              "\n",
              "    .dataframe thead th {\n",
              "        text-align: right;\n",
              "    }\n",
              "</style>\n",
              "<table border=\"1\" class=\"dataframe\">\n",
              "  <thead>\n",
              "    <tr style=\"text-align: right;\">\n",
              "      <th></th>\n",
              "      <th>순위</th>\n",
              "      <th>제목</th>\n",
              "      <th>저자</th>\n",
              "      <th>출판사</th>\n",
              "      <th>가격</th>\n",
              "    </tr>\n",
              "  </thead>\n",
              "  <tbody>\n",
              "    <tr>\n",
              "      <th>0</th>\n",
              "      <td>1</td>\n",
              "      <td>하얼빈</td>\n",
              "      <td>김훈(金薰)</td>\n",
              "      <td>문학동네</td>\n",
              "      <td>14400</td>\n",
              "    </tr>\n",
              "    <tr>\n",
              "      <th>1</th>\n",
              "      <td>2</td>\n",
              "      <td>미래의 부를 위한 투자 공부</td>\n",
              "      <td>신진상</td>\n",
              "      <td>미디어숲</td>\n",
              "      <td>16020</td>\n",
              "    </tr>\n",
              "    <tr>\n",
              "      <th>2</th>\n",
              "      <td>3</td>\n",
              "      <td>불편한 편의점 2</td>\n",
              "      <td>김호연</td>\n",
              "      <td>나무옆의자</td>\n",
              "      <td>12600</td>\n",
              "    </tr>\n",
              "    <tr>\n",
              "      <th>3</th>\n",
              "      <td>4</td>\n",
              "      <td>불편한 편의점(40만부 기념 벚꽃 에디션)</td>\n",
              "      <td>김호연</td>\n",
              "      <td>나무옆의자</td>\n",
              "      <td>12600</td>\n",
              "    </tr>\n",
              "    <tr>\n",
              "      <th>4</th>\n",
              "      <td>5</td>\n",
              "      <td>계속 가보겠습니다</td>\n",
              "      <td>임은정</td>\n",
              "      <td>메디치미디어</td>\n",
              "      <td>16200</td>\n",
              "    </tr>\n",
              "    <tr>\n",
              "      <th>5</th>\n",
              "      <td>6</td>\n",
              "      <td>가불 선진국</td>\n",
              "      <td>조국</td>\n",
              "      <td>메디치미디어</td>\n",
              "      <td>14400</td>\n",
              "    </tr>\n",
              "    <tr>\n",
              "      <th>6</th>\n",
              "      <td>7</td>\n",
              "      <td>헤어질 결심 각본</td>\n",
              "      <td>정서경, 박찬욱</td>\n",
              "      <td>을유문화사</td>\n",
              "      <td>13500</td>\n",
              "    </tr>\n",
              "    <tr>\n",
              "      <th>7</th>\n",
              "      <td>7</td>\n",
              "      <td>아직 긴 인생이 남았습니다</td>\n",
              "      <td>기시미 이치로(岸見一郞)/전경아 역</td>\n",
              "      <td>한국경제신문</td>\n",
              "      <td>14400</td>\n",
              "    </tr>\n",
              "    <tr>\n",
              "      <th>8</th>\n",
              "      <td>7</td>\n",
              "      <td>역행자</td>\n",
              "      <td>자청</td>\n",
              "      <td>웅진지식하우스</td>\n",
              "      <td>15750</td>\n",
              "    </tr>\n",
              "    <tr>\n",
              "      <th>9</th>\n",
              "      <td>10</td>\n",
              "      <td>파친코 1</td>\n",
              "      <td>이민진/신승미 역</td>\n",
              "      <td>인플루엔셜</td>\n",
              "      <td>14220</td>\n",
              "    </tr>\n",
              "    <tr>\n",
              "      <th>10</th>\n",
              "      <td>10</td>\n",
              "      <td>흔한남매 11</td>\n",
              "      <td>흔한남매, 백난도/유난희 그림/흔한컴퍼니 감수</td>\n",
              "      <td>미래엔아이세움</td>\n",
              "      <td>13050</td>\n",
              "    </tr>\n",
              "    <tr>\n",
              "      <th>11</th>\n",
              "      <td>12</td>\n",
              "      <td>마법천자문 53: 결정을 내리다! 결단할 결</td>\n",
              "      <td>유대영/홍거북 그림/김창환 감수</td>\n",
              "      <td>아울북</td>\n",
              "      <td>12600</td>\n",
              "    </tr>\n",
              "    <tr>\n",
              "      <th>12</th>\n",
              "      <td>12</td>\n",
              "      <td>한 개의 기쁨이 천 개의 슬픔을 이긴다: 삶과 태도에 관하여</td>\n",
              "      <td>조우성</td>\n",
              "      <td>서삼독</td>\n",
              "      <td>13320</td>\n",
              "    </tr>\n",
              "    <tr>\n",
              "      <th>13</th>\n",
              "      <td>12</td>\n",
              "      <td>눈물 한 방울</td>\n",
              "      <td>이어령(李御寧)</td>\n",
              "      <td>김영사</td>\n",
              "      <td>14220</td>\n",
              "    </tr>\n",
              "    <tr>\n",
              "      <th>14</th>\n",
              "      <td>15</td>\n",
              "      <td>예쁘게 말하는 네가 좋다</td>\n",
              "      <td>김범준</td>\n",
              "      <td>포레스트북스</td>\n",
              "      <td>14220</td>\n",
              "    </tr>\n",
              "  </tbody>\n",
              "</table>\n",
              "</div>\n",
              "      <button class=\"colab-df-convert\" onclick=\"convertToInteractive('df-69b95481-765b-47ea-a3e0-cae93cdaa9c9')\"\n",
              "              title=\"Convert this dataframe to an interactive table.\"\n",
              "              style=\"display:none;\">\n",
              "        \n",
              "  <svg xmlns=\"http://www.w3.org/2000/svg\" height=\"24px\"viewBox=\"0 0 24 24\"\n",
              "       width=\"24px\">\n",
              "    <path d=\"M0 0h24v24H0V0z\" fill=\"none\"/>\n",
              "    <path d=\"M18.56 5.44l.94 2.06.94-2.06 2.06-.94-2.06-.94-.94-2.06-.94 2.06-2.06.94zm-11 1L8.5 8.5l.94-2.06 2.06-.94-2.06-.94L8.5 2.5l-.94 2.06-2.06.94zm10 10l.94 2.06.94-2.06 2.06-.94-2.06-.94-.94-2.06-.94 2.06-2.06.94z\"/><path d=\"M17.41 7.96l-1.37-1.37c-.4-.4-.92-.59-1.43-.59-.52 0-1.04.2-1.43.59L10.3 9.45l-7.72 7.72c-.78.78-.78 2.05 0 2.83L4 21.41c.39.39.9.59 1.41.59.51 0 1.02-.2 1.41-.59l7.78-7.78 2.81-2.81c.8-.78.8-2.07 0-2.86zM5.41 20L4 18.59l7.72-7.72 1.47 1.35L5.41 20z\"/>\n",
              "  </svg>\n",
              "      </button>\n",
              "      \n",
              "  <style>\n",
              "    .colab-df-container {\n",
              "      display:flex;\n",
              "      flex-wrap:wrap;\n",
              "      gap: 12px;\n",
              "    }\n",
              "\n",
              "    .colab-df-convert {\n",
              "      background-color: #E8F0FE;\n",
              "      border: none;\n",
              "      border-radius: 50%;\n",
              "      cursor: pointer;\n",
              "      display: none;\n",
              "      fill: #1967D2;\n",
              "      height: 32px;\n",
              "      padding: 0 0 0 0;\n",
              "      width: 32px;\n",
              "    }\n",
              "\n",
              "    .colab-df-convert:hover {\n",
              "      background-color: #E2EBFA;\n",
              "      box-shadow: 0px 1px 2px rgba(60, 64, 67, 0.3), 0px 1px 3px 1px rgba(60, 64, 67, 0.15);\n",
              "      fill: #174EA6;\n",
              "    }\n",
              "\n",
              "    [theme=dark] .colab-df-convert {\n",
              "      background-color: #3B4455;\n",
              "      fill: #D2E3FC;\n",
              "    }\n",
              "\n",
              "    [theme=dark] .colab-df-convert:hover {\n",
              "      background-color: #434B5C;\n",
              "      box-shadow: 0px 1px 3px 1px rgba(0, 0, 0, 0.15);\n",
              "      filter: drop-shadow(0px 1px 2px rgba(0, 0, 0, 0.3));\n",
              "      fill: #FFFFFF;\n",
              "    }\n",
              "  </style>\n",
              "\n",
              "      <script>\n",
              "        const buttonEl =\n",
              "          document.querySelector('#df-69b95481-765b-47ea-a3e0-cae93cdaa9c9 button.colab-df-convert');\n",
              "        buttonEl.style.display =\n",
              "          google.colab.kernel.accessAllowed ? 'block' : 'none';\n",
              "\n",
              "        async function convertToInteractive(key) {\n",
              "          const element = document.querySelector('#df-69b95481-765b-47ea-a3e0-cae93cdaa9c9');\n",
              "          const dataTable =\n",
              "            await google.colab.kernel.invokeFunction('convertToInteractive',\n",
              "                                                     [key], {});\n",
              "          if (!dataTable) return;\n",
              "\n",
              "          const docLinkHtml = 'Like what you see? Visit the ' +\n",
              "            '<a target=\"_blank\" href=https://colab.research.google.com/notebooks/data_table.ipynb>data table notebook</a>'\n",
              "            + ' to learn more about interactive tables.';\n",
              "          element.innerHTML = '';\n",
              "          dataTable['output_type'] = 'display_data';\n",
              "          await google.colab.output.renderOutput(dataTable, element);\n",
              "          const docLink = document.createElement('div');\n",
              "          docLink.innerHTML = docLinkHtml;\n",
              "          element.appendChild(docLink);\n",
              "        }\n",
              "      </script>\n",
              "    </div>\n",
              "  </div>\n",
              "  "
            ],
            "text/plain": [
              "    순위                                 제목                         저자      출판사  \\\n",
              "0    1                                하얼빈                     김훈(金薰)     문학동네   \n",
              "1    2                    미래의 부를 위한 투자 공부                        신진상     미디어숲   \n",
              "2    3                          불편한 편의점 2                        김호연    나무옆의자   \n",
              "3    4            불편한 편의점(40만부 기념 벚꽃 에디션)                        김호연    나무옆의자   \n",
              "4    5                          계속 가보겠습니다                        임은정   메디치미디어   \n",
              "5    6                             가불 선진국                         조국   메디치미디어   \n",
              "6    7                          헤어질 결심 각본                   정서경, 박찬욱    을유문화사   \n",
              "7    7                     아직 긴 인생이 남았습니다        기시미 이치로(岸見一郞)/전경아 역   한국경제신문   \n",
              "8    7                                역행자                         자청  웅진지식하우스   \n",
              "9   10                              파친코 1                  이민진/신승미 역    인플루엔셜   \n",
              "10  10                            흔한남매 11  흔한남매, 백난도/유난희 그림/흔한컴퍼니 감수  미래엔아이세움   \n",
              "11  12           마법천자문 53: 결정을 내리다! 결단할 결          유대영/홍거북 그림/김창환 감수      아울북   \n",
              "12  12  한 개의 기쁨이 천 개의 슬픔을 이긴다: 삶과 태도에 관하여                        조우성      서삼독   \n",
              "13  12                            눈물 한 방울                   이어령(李御寧)      김영사   \n",
              "14  15                      예쁘게 말하는 네가 좋다                        김범준   포레스트북스   \n",
              "\n",
              "       가격  \n",
              "0   14400  \n",
              "1   16020  \n",
              "2   12600  \n",
              "3   12600  \n",
              "4   16200  \n",
              "5   14400  \n",
              "6   13500  \n",
              "7   14400  \n",
              "8   15750  \n",
              "9   14220  \n",
              "10  13050  \n",
              "11  12600  \n",
              "12  13320  \n",
              "13  14220  \n",
              "14  14220  "
            ]
          },
          "execution_count": 19,
          "metadata": {},
          "output_type": "execute_result"
        }
      ],
      "source": [
        "df = pd.DataFrame(lines, columns=['순위', '제목', '저자', '출판사', '가격'])\n",
        "df"
      ]
    }
  ],
  "metadata": {
    "colab": {
      "name": "02_Interpark.ipynb",
      "provenance": []
    },
    "kernelspec": {
      "display_name": "Python 3.9.12 ('base')",
      "language": "python",
      "name": "python3"
    },
    "language_info": {
      "name": "python",
      "version": "3.9.12"
    },
    "vscode": {
      "interpreter": {
        "hash": "dd4ca7dd7465a3d044287cb6a2b4d1d18d3ce70fbe162c400437d78078a8fd97"
      }
    }
  },
  "nbformat": 4,
  "nbformat_minor": 0
}
