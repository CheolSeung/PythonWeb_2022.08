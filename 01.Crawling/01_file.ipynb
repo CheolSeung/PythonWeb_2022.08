{
  "cells": [
    {
      "cell_type": "markdown",
      "metadata": {
        "id": "g52Y8fXnkrM7"
      },
      "source": [
        "# HTML 파일 열어서 원하는 정보 가져오기"
      ]
    },
    {
      "cell_type": "code",
      "execution_count": 1,
      "metadata": {
        "id": "F0BeiNa_yW8e"
      },
      "outputs": [],
      "source": [
        "from bs4 import BeautifulSoup\n",
        "with open('example.html') as f:\n",
        "  soup = BeautifulSoup(f, 'html.parser')"
      ]
    },
    {
      "cell_type": "markdown",
      "metadata": {
        "id": "OMTV_Po4qJXW"
      },
      "source": [
        "### 1. 태그 정보 : find(), find_all()"
      ]
    },
    {
      "cell_type": "code",
      "execution_count": 2,
      "metadata": {
        "colab": {
          "base_uri": "https://localhost:8080/"
        },
        "id": "NSfaX3LDlFNS",
        "outputId": "16da67f3-3551-4018-b1d2-9da703d1af3e"
      },
      "outputs": [
        {
          "data": {
            "text/plain": [
              "<div>\n",
              "<p>a</p>\n",
              "<p>b</p>\n",
              "<p>c</p>\n",
              "</div>"
            ]
          },
          "execution_count": 2,
          "metadata": {},
          "output_type": "execute_result"
        }
      ],
      "source": [
        "#첫번째 div 태그의 내용을 가져오기\n",
        "first_div = soup.find('div')\n",
        "first_div"
      ]
    },
    {
      "cell_type": "code",
      "execution_count": 3,
      "metadata": {
        "colab": {
          "base_uri": "https://localhost:8080/"
        },
        "id": "RuDAFALGpYMx",
        "outputId": "ad936264-ea11-4654-e7ac-31a29f43a478"
      },
      "outputs": [
        {
          "data": {
            "text/plain": [
              "[<p>a</p>, <p>b</p>, <p>c</p>]"
            ]
          },
          "execution_count": 3,
          "metadata": {},
          "output_type": "execute_result"
        }
      ],
      "source": [
        "#해당되는 태그를 모두 가져오기\n",
        "ps = first_div.find_all('p')\n",
        "ps"
      ]
    },
    {
      "cell_type": "code",
      "execution_count": 4,
      "metadata": {
        "colab": {
          "base_uri": "https://localhost:8080/"
        },
        "id": "TMwkaWBbpwDR",
        "outputId": "caf6ac9f-c9a4-4d90-efcd-889d3bcf4094"
      },
      "outputs": [
        {
          "name": "stdout",
          "output_type": "stream",
          "text": [
            "<p>a</p>\n",
            "<p>b</p>\n",
            "<p>c</p>\n"
          ]
        }
      ],
      "source": [
        "for ptag in ps:\n",
        "  print(ptag)"
      ]
    },
    {
      "cell_type": "code",
      "execution_count": 5,
      "metadata": {
        "colab": {
          "base_uri": "https://localhost:8080/"
        },
        "id": "yTBvqHZsp7EA",
        "outputId": "5813b9fd-89b0-422b-de75-d97e2d4b507f"
      },
      "outputs": [
        {
          "data": {
            "text/plain": [
              "<p>b</p>"
            ]
          },
          "execution_count": 5,
          "metadata": {},
          "output_type": "execute_result"
        }
      ],
      "source": [
        "ps[1]"
      ]
    },
    {
      "cell_type": "markdown",
      "metadata": {
        "id": "_xNYAAy8qP9X"
      },
      "source": [
        "### 2. CSS Selector : select_one(), select()"
      ]
    },
    {
      "cell_type": "code",
      "execution_count": 6,
      "metadata": {
        "colab": {
          "base_uri": "https://localhost:8080/"
        },
        "id": "RoSSxJC_qCBT",
        "outputId": "c1c8affd-5a4b-4c29-c08e-58a8dc5e1ec7"
      },
      "outputs": [
        {
          "data": {
            "text/plain": [
              "<div class=\"ex_class\">\n",
              "<p></p>\n",
              "<p></p>\n",
              "<p></p>\n",
              "</div>"
            ]
          },
          "execution_count": 6,
          "metadata": {},
          "output_type": "execute_result"
        }
      ],
      "source": [
        "#class명이 ex_class인 태그의 정보를 가져오기\n",
        "second_div = soup.select_one('.ex_class')\n",
        "second_div"
      ]
    },
    {
      "cell_type": "code",
      "execution_count": 7,
      "metadata": {
        "colab": {
          "base_uri": "https://localhost:8080/"
        },
        "id": "bhCZuWqLq3OW",
        "outputId": "f39eb312-8cf0-4b78-8700-dfc30a6e639d"
      },
      "outputs": [
        {
          "data": {
            "text/plain": [
              "<div id=\"ex_id\">\n",
              "<p></p>\n",
              "<p></p>\n",
              "<p></p>\n",
              "</div>"
            ]
          },
          "execution_count": 7,
          "metadata": {},
          "output_type": "execute_result"
        }
      ],
      "source": [
        "#id값이 ex_id인 태그의 정보를 가져오기\n",
        "third_div = soup.select_one('#ex_id')\n",
        "third_div"
      ]
    },
    {
      "cell_type": "code",
      "execution_count": 8,
      "metadata": {
        "colab": {
          "base_uri": "https://localhost:8080/"
        },
        "id": "ECwTGQ_trORp",
        "outputId": "be935d3f-a3f8-44ce-f123-9a02badd6c37"
      },
      "outputs": [
        {
          "data": {
            "text/plain": [
              "3"
            ]
          },
          "execution_count": 8,
          "metadata": {},
          "output_type": "execute_result"
        }
      ],
      "source": [
        "#div 태그를 모두 가져오기\n",
        "all_divs = soup.select('div')\n",
        "len(all_divs)"
      ]
    },
    {
      "cell_type": "code",
      "execution_count": 9,
      "metadata": {
        "colab": {
          "base_uri": "https://localhost:8080/"
        },
        "id": "ZPxhFCyPreHR",
        "outputId": "f2556cce-3c1e-494d-dc4d-6e11541733a2"
      },
      "outputs": [
        {
          "data": {
            "text/plain": [
              "11"
            ]
          },
          "execution_count": 9,
          "metadata": {},
          "output_type": "execute_result"
        }
      ],
      "source": [
        "#모든 p 태그\n",
        "all_ps = soup.find_all('p')\n",
        "len(all_ps)"
      ]
    },
    {
      "cell_type": "code",
      "execution_count": 11,
      "metadata": {
        "colab": {
          "base_uri": "https://localhost:8080/"
        },
        "id": "rmJ6GTFxsTHi",
        "outputId": "50aa2bc7-19fd-4e91-e6e5-cb6bc4294edf"
      },
      "outputs": [
        {
          "data": {
            "text/plain": [
              "9"
            ]
          },
          "execution_count": 11,
          "metadata": {},
          "output_type": "execute_result"
        }
      ],
      "source": [
        "#div의 자식인 p 태그\n",
        "div_ps = soup.select('div p')\n",
        "len(div_ps)"
      ]
    },
    {
      "cell_type": "markdown",
      "metadata": {
        "id": "GuTOlpSFswOA"
      },
      "source": [
        "### 3. 결과"
      ]
    },
    {
      "cell_type": "code",
      "execution_count": 13,
      "metadata": {
        "colab": {
          "base_uri": "https://localhost:8080/",
          "height": 35
        },
        "id": "a3hi1umSskJ7",
        "outputId": "9bc0093c-8671-42e3-9572-0598f57bd024"
      },
      "outputs": [
        {
          "data": {
            "application/vnd.google.colaboratory.intrinsic+json": {
              "type": "string"
            },
            "text/plain": [
              "'This is a heading.'"
            ]
          },
          "execution_count": 13,
          "metadata": {},
          "output_type": "execute_result"
        }
      ],
      "source": [
        "#태그 안의 내용\n",
        "h1_info = soup.find('h1').get_text()\n",
        "h1_info"
      ]
    },
    {
      "cell_type": "code",
      "execution_count": 14,
      "metadata": {
        "colab": {
          "base_uri": "https://localhost:8080/",
          "height": 35
        },
        "id": "zE3Z7Sngs8kt",
        "outputId": "ccd96474-c3d1-418a-b26a-b37d1b0ac737"
      },
      "outputs": [
        {
          "data": {
            "application/vnd.google.colaboratory.intrinsic+json": {
              "type": "string"
            },
            "text/plain": [
              "'This is a heading.'"
            ]
          },
          "execution_count": 14,
          "metadata": {},
          "output_type": "execute_result"
        }
      ],
      "source": [
        "soup.find('h1').string"
      ]
    },
    {
      "cell_type": "code",
      "execution_count": 16,
      "metadata": {
        "colab": {
          "base_uri": "https://localhost:8080/",
          "height": 35
        },
        "id": "I6bGHW3_tfKo",
        "outputId": "56e4135e-c3f9-44f4-9cf0-7ccd96074ce2"
      },
      "outputs": [
        {
          "data": {
            "application/vnd.google.colaboratory.intrinsic+json": {
              "type": "string"
            },
            "text/plain": [
              "'Naver'"
            ]
          },
          "execution_count": 16,
          "metadata": {},
          "output_type": "execute_result"
        }
      ],
      "source": [
        "soup.find('a').get_text()"
      ]
    },
    {
      "cell_type": "code",
      "execution_count": 17,
      "metadata": {
        "colab": {
          "base_uri": "https://localhost:8080/",
          "height": 35
        },
        "id": "l8fRx9dFtxKl",
        "outputId": "442de1bd-a82a-4c92-bb90-1a54abbb55fe"
      },
      "outputs": [
        {
          "data": {
            "application/vnd.google.colaboratory.intrinsic+json": {
              "type": "string"
            },
            "text/plain": [
              "'www.naver.com'"
            ]
          },
          "execution_count": 17,
          "metadata": {},
          "output_type": "execute_result"
        }
      ],
      "source": [
        "#속성값\n",
        "soup.find('a')['href']"
      ]
    }
  ],
  "metadata": {
    "colab": {
      "name": "01_file.ipynb",
      "provenance": []
    },
    "kernelspec": {
      "display_name": "Python 3.9.12 ('base')",
      "language": "python",
      "name": "python3"
    },
    "language_info": {
      "name": "python",
      "version": "3.9.12"
    },
    "vscode": {
      "interpreter": {
        "hash": "dd4ca7dd7465a3d044287cb6a2b4d1d18d3ce70fbe162c400437d78078a8fd97"
      }
    }
  },
  "nbformat": 4,
  "nbformat_minor": 0
}
